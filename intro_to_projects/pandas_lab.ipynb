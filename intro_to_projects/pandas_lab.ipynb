{
 "cells": [
  {
   "cell_type": "code",
   "execution_count": 2,
   "metadata": {},
   "outputs": [],
   "source": [
    "import pandas as pd\n",
    "import numpy as np\n",
    "import random\n",
    "from collections import Counter\n",
    "import matplotlib.pyplot as plt\n",
    "import seaborn as sns\n",
    "import datetime as datetime\n",
    "import timeit\n",
    "\n",
    "pd.set_option('display.max_rows', 60000)\n",
    "pd.set_option('display.max_columns', 500)\n",
    "pd.set_option('display.max_colwidth', 200)\n",
    "pd.options.display.float_format = '{:,.2f}'.format"
   ]
  },
  {
   "cell_type": "markdown",
   "metadata": {},
   "source": [
    "## Section 6 Tasks\n",
    "### Subset Columns\n",
    "#### Task 3\n",
    "Pick specific columns  with values > 500k\n",
    "\n",
    "Load the data from the singstats_maritalstatus.xlsx file into a Pandas DataFrame object mydf . Set the index as the first column of the Excel file (i.e. “Variables”)\n",
    "\n",
    "•\tFind out how many rows of the data in the 1980 column have values more than 500000 and how many rows by of the data have values less than or equal to 500000 by creating a derived column using boolean indexing on this column and using the count() method you have learnt in Section 4 of this lab.\n"
   ]
  },
  {
   "cell_type": "code",
   "execution_count": 35,
   "metadata": {},
   "outputs": [
    {
     "name": "stdout",
     "output_type": "stream",
     "text": [
      "*** Data in 1980 column ***\n",
      "                        1980\n",
      "Variables                   \n",
      "Total                1651500\n",
      "Single                674100\n",
      "Married               864600\n",
      "Widowed                97100\n",
      "Divorced/ Separated    15800\n",
      "Males                 833500\n",
      "Single                375800\n",
      "Married               435900\n",
      "Widowed                16000\n",
      "Divorced/ Separated     5700\n",
      "Females               818000\n",
      "Single                298300\n",
      "Married               428700\n",
      "Widowed                81100\n",
      "Divorced/ Separated    10100\n",
      " \n",
      "Number of rows more than 500k is 5\n",
      "Number of rows less than 500k is 10\n"
     ]
    }
   ],
   "source": [
    "mydf = pd.read_excel('lab_datasets/singstats_maritalstatus.xlsx',index_col=0)\n",
    "\n",
    "data = mydf[['1980']].copy()\n",
    "\n",
    "more_500 = data[data['1980']>500000]['1980'].count()\n",
    "less_500 = data[data['1980']<500000]['1980'].count()\n",
    "\n",
    "print(\"*** Data in 1980 column ***\")\n",
    "print(data)\n",
    "print(\" \")\n",
    "print(\"Number of rows more than 500k is {}\".format(more_500))\n",
    "print(\"Number of rows less than 500k is {}\".format(less_500))"
   ]
  },
  {
   "cell_type": "markdown",
   "metadata": {},
   "source": [
    "### Task 4: Select columns by regular expression"
   ]
  },
  {
   "cell_type": "markdown",
   "metadata": {},
   "source": [
    "Pick specific columns that start with characters 201 (filter)\n",
    "\n",
    "Load the data from the singstats_maritalstatus.xlsx file into a Pandas DataFrame object mydf . Set the index as the first column of the Excel file (i.e. “Variables”)\n",
    "\n",
    "- Select the columns that start with “201” and store them in a dataframe named df_2010_and_after\n",
    "- Print out the values of df_2010_and_after\n",
    "\n",
    "Your output should look similar to that below.\n"
   ]
  },
  {
   "cell_type": "code",
   "execution_count": 42,
   "metadata": {},
   "outputs": [
    {
     "name": "stdout",
     "output_type": "stream",
     "text": [
      "                        2010     2011     2012     2013     2014     2015  \\\n",
      "Variables                                                                   \n",
      "Total                3105700  3148700  3183000  3205900  3259800  3275900   \n",
      "Single               1000500  1012000  1022600  1029300  1048100  1034500   \n",
      "Married              1844600  1875900  1899000  1911500  1940100  1945600   \n",
      "Widowed               157600   157700   152300   158000   161100   172100   \n",
      "Divorced/ Separated   103100   103000   109200   107200   110600   123600   \n",
      "Males                1517400  1534200  1550000  1560900  1583900  1589600   \n",
      "Single                527100   529600   534700   535100   538500   533200   \n",
      "Married               928400   944300   952200   963100   980800   984700   \n",
      "Widowed                24900    25700    25700    25700    27300    28900   \n",
      "Divorced/ Separated    37100    34600    37500    37000    37300    42700   \n",
      "Females              1588300  1614500  1633000  1645000  1675900  1686300   \n",
      "Single                473400   482400   487900   494100   509600   501300   \n",
      "Married               916300   931600   946800   948400   959200   960900   \n",
      "Widowed               132700   132000   126700   132300   133700   143200   \n",
      "Divorced/ Separated    66000    68400    71700    70200    73300    80900   \n",
      "\n",
      "                        2016  \n",
      "Variables                     \n",
      "Total                3318500  \n",
      "Single               1049200  \n",
      "Married              1974700  \n",
      "Widowed               174600  \n",
      "Divorced/ Separated   119900  \n",
      "Males                1607500  \n",
      "Single                539700  \n",
      "Married               993900  \n",
      "Widowed                29900  \n",
      "Divorced/ Separated    44100  \n",
      "Females              1711000  \n",
      "Single                509600  \n",
      "Married               980800  \n",
      "Widowed               144700  \n",
      "Divorced/ Separated    75900  \n"
     ]
    }
   ],
   "source": [
    "mydf = pd.read_excel('lab_datasets/singstats_maritalstatus.xlsx',index_col=0)\n",
    "re1 = '^201' # Match strings starting with c\n",
    "df_2010_and_after = mydf.filter(regex=re1)\n",
    "print(df_2010_and_after)"
   ]
  },
  {
   "cell_type": "markdown",
   "metadata": {},
   "source": [
    "## B.\tSubset rows\n",
    "### Task 3\n",
    "\n",
    "Select rows that have > 300mm of rainfall\n",
    "\n",
    "Load the data from the rainfall-monthly-total.csv file into a Pandas DataFrame object df_rainfall.\n",
    "\n",
    "Set the index as the first column of the file (i.e. “month”)\n",
    "\n",
    "Use boolean indexing to select only the rows of data that has more than 300 mm of rainfall and sort the resulting data in ascending order.\n",
    "\n",
    "Display the twelve year/month with the most rainfall in a barchart using Matplotlib as shown.\n"
   ]
  },
  {
   "cell_type": "code",
   "execution_count": 88,
   "metadata": {},
   "outputs": [
    {
     "data": {
      "image/png": "[encoded data removed]",
      "text/plain": [
       "<Figure size 1080x504 with 1 Axes>"
      ]
     },
     "metadata": {
      "needs_background": "light"
     },
     "output_type": "display_data"
    }
   ],
   "source": [
    "df_rainfall = pd.read_csv('lab_datasets/rainfall-monthly-total.csv',index_col=0)\n",
    "total_rainfall = df_rainfall[df_rainfall['total_rainfall']>300].sort_values(by='total_rainfall',ascending = True).tail(12)\n",
    "\n",
    "fig = plt.figure(figsize = (15, 7))\n",
    "ax = fig.add_subplot(111)\n",
    "  \n",
    "# creating the bar plot \n",
    "plt.bar(total_rainfall.index, total_rainfall['total_rainfall'], label ='total_rainfall', width = 0.6) \n",
    "plt.xticks(rotation = 90)\n",
    "plt.xlabel(\"month\") \n",
    "plt.ylabel(\"total_rainfall\") \n",
    "plt.legend(loc='upper left')\n",
    "plt.show()"
   ]
  },
  {
   "cell_type": "markdown",
   "metadata": {},
   "source": [
    "# Section 8 Tasks\n",
    "## B.\tDrop missing values with dropna\n",
    "### Task 1: Drop missing values with dropna\n",
    "Drop missing values with dropna()\n",
    "\n",
    "Load the data from the singstats_maritalstatus.xlsx file into a Pandas DataFrame object mydf. Set the index as the first column of the Excel file (i.e. “Variables”) and consider values that have the value “-“ as being missing or invalid.\n",
    "\n",
    "- Print out the first 10 rows of the dataset which should already reveal the columns or rows with missing or invalid data\n",
    "- Next, use the pandas dropna method to drop all the columns with missing data from mydf\n"
   ]
  },
  {
   "cell_type": "code",
   "execution_count": 105,
   "metadata": {},
   "outputs": [
    {
     "name": "stdout",
     "output_type": "stream",
     "text": [
      "**** First 10 rows of original dataset ****\n",
      "                        1980  1981  1982     1983     1984     1985     1986\n",
      "Variables                                                                   \n",
      "Total                1651500   nan   nan  1791900  1829000  1866700  1906600\n",
      "Single                674100   nan   nan   728000   714300   726600   736500\n",
      "Married               864600   nan   nan   951200  1005100  1020100  1039700\n",
      "Widowed                97100   nan   nan   101700    92800    99200   108200\n",
      "Divorced/ Separated    15800   nan   nan    11000    16700    20800    22300\n",
      "Males                 833500   nan   nan   901700   912200   929800   948000\n",
      "Single                375800   nan   nan   404700   393400   400100   408100\n",
      "Married               435900   nan   nan   476300   499600   506500   517100\n",
      "Widowed                16000   nan   nan    16600    13600    16200    15500\n",
      "Divorced/ Separated     5700   nan   nan     4100     5600     7000     7300\n",
      " \n",
      "**** Remaining dataset after dropping columns with missing data ****\n",
      "                        1980     1983     1984     1985     1986     1987\n",
      "Variables                                                                \n",
      "Total                1651500  1791900  1829000  1866700  1906600  1947600\n",
      "Single                674100   728000   714300   726600   736500   735200\n",
      "Married               864600   951200  1005100  1020100  1039700  1083300\n",
      "Widowed                97100   101700    92800    99200   108200   106900\n",
      "Divorced/ Separated    15800    11000    16700    20800    22300    22200\n",
      "Males                 833500   901700   912200   929800   948000   974100\n",
      "Single                375800   404700   393400   400100   408100   410800\n",
      "Married               435900   476300   499600   506500   517100   539600\n"
     ]
    }
   ],
   "source": [
    "mydf = pd.read_excel('lab_datasets/singstats_maritalstatus.xlsx',index_col=0,na_values='-' )\n",
    "\n",
    "print('**** First 10 rows of original dataset ****')\n",
    "print(mydf.iloc[:10,:7])\n",
    "\n",
    "print(\" \")\n",
    "mydf = mydf.dropna(axis =1)\n",
    "print('**** Remaining dataset after dropping columns with missing data ****')\n",
    "\n",
    "print(mydf.iloc[:8,:6])"
   ]
  },
  {
   "cell_type": "code",
   "execution_count": null,
   "metadata": {},
   "outputs": [],
   "source": []
  }
 ],
 "metadata": {
  "kernelspec": {
   "display_name": "Python 3",
   "language": "python",
   "name": "python3"
  },
  "language_info": {
   "codemirror_mode": {
    "name": "ipython",
    "version": 3
   },
   "file_extension": ".py",
   "mimetype": "text/x-python",
   "name": "python",
   "nbconvert_exporter": "python",
   "pygments_lexer": "ipython3",
   "version": "3.8.3"
  }
 },
 "nbformat": 4,
 "nbformat_minor": 4
}
