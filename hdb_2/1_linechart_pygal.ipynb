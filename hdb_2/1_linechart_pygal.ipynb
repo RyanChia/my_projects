{
 "cells": [
  {
   "cell_type": "raw",
   "id": "peripheral-jackson",
   "metadata": {},
   "source": [
    "https://data.worldbank.org/indicator/NY.GDP.PCAP.CD?end=2019&locations=SG&start=1960\n",
    "https://data.gov.sg/dataset/life-expectancy-by-sex-annual"
   ]
  },
  {
   "cell_type": "code",
   "execution_count": 1,
   "id": "integrated-subject",
   "metadata": {},
   "outputs": [],
   "source": [
    "#uncheck this if you prefer to use inline display\n",
    "# html_pygal = \"\"\"\n",
    "# <!DOCTYPE html>\n",
    "# <html>\n",
    "#   <head>\n",
    "#   <script type=\"text/javascript\" src=\"http://kozea.github.com/pygal.js/javascripts/svg.jquery.js\"></script>\n",
    "#   <script type=\"text/javascript\" src=\"http://kozea.github.com/pygal.js/javascripts/pygal-tooltips.js\"></script>\n",
    "#     <!-- ... -->\n",
    "#   </head>\n",
    "#   <body>\n",
    "#     <figure>\n",
    "#       {pygal_render}\n",
    "#     </figure>\n",
    "#   </body>\n",
    "# </html>\n",
    "# \"\"\""
   ]
  },
  {
   "cell_type": "code",
   "execution_count": 2,
   "id": "billion-demonstration",
   "metadata": {},
   "outputs": [],
   "source": [
    "import pandas as pd\n",
    "import numpy as np\n",
    "\n",
    "pd.set_option('display.max_colwidth', 200)\n",
    "pd.options.display.float_format = '{:,.2f}'.format\n",
    "\n",
    "import pygal\n",
    "from IPython.display import SVG, display, HTML\n",
    "from pygal.style import BlueStyle"
   ]
  },
  {
   "cell_type": "code",
   "execution_count": 3,
   "id": "fourth-holly",
   "metadata": {},
   "outputs": [],
   "source": [
    "#for inital selection to capture Singapore's records since independence\n",
    "range_years = [str(i) for i in range(1960,2020)] \n",
    "\n",
    "gdp = pd.read_csv('datasets/gdp_per_capital/gdp_.csv')\n",
    "#extracting only SG information and selection by range_years\n",
    "gdp_sg = gdp[gdp['Country Name']=='Singapore'].copy().reset_index(drop=True).T.reset_index(drop=False)\n",
    "gdp_sg = gdp_sg[gdp_sg['index'].isin(range_years)] #selection of years \n",
    "gdp_sg.columns = ['year','gdp_per_capital'] #renaming the columns\n",
    "gdp_sg['gdp_per_capital'] = gdp_sg['gdp_per_capital'].astype(float) #transforming the gdp as float datatype\n",
    "\n",
    "le = pd.read_csv('datasets/life-expectancy-by-sex-annual/life-expectancy-at-birth-and-age-65-years.csv')\n",
    "le = le[le['level_1'] == 'Total Life Expectancy At Birth (Residents)'].reset_index(drop=True)\n",
    "le.columns = ['year','life_expectancy_1','life_expectancy']\n",
    "le['year'] = le['year'].astype(str) #transforming the year as str datatype\n",
    "\n",
    "df = pd.merge(gdp_sg, le, how = 'inner', on = 'year') #joining the 2 datasets together "
   ]
  },
  {
   "cell_type": "code",
   "execution_count": 4,
   "id": "acceptable-custody",
   "metadata": {},
   "outputs": [
    {
     "data": {
      "text/html": [
       "<div>\n",
       "<style scoped>\n",
       "    .dataframe tbody tr th:only-of-type {\n",
       "        vertical-align: middle;\n",
       "    }\n",
       "\n",
       "    .dataframe tbody tr th {\n",
       "        vertical-align: top;\n",
       "    }\n",
       "\n",
       "    .dataframe thead th {\n",
       "        text-align: right;\n",
       "    }\n",
       "</style>\n",
       "<table border=\"1\" class=\"dataframe\">\n",
       "  <thead>\n",
       "    <tr style=\"text-align: right;\">\n",
       "      <th></th>\n",
       "      <th>year</th>\n",
       "      <th>gdp_per_capital</th>\n",
       "      <th>life_expectancy_1</th>\n",
       "      <th>life_expectancy</th>\n",
       "    </tr>\n",
       "  </thead>\n",
       "  <tbody>\n",
       "    <tr>\n",
       "      <th>0</th>\n",
       "      <td>1960</td>\n",
       "      <td>428.06</td>\n",
       "      <td>Total Life Expectancy At Birth (Residents)</td>\n",
       "      <td>62.90</td>\n",
       "    </tr>\n",
       "    <tr>\n",
       "      <th>42</th>\n",
       "      <td>2018</td>\n",
       "      <td>66,188.78</td>\n",
       "      <td>Total Life Expectancy At Birth (Residents)</td>\n",
       "      <td>83.20</td>\n",
       "    </tr>\n",
       "  </tbody>\n",
       "</table>\n",
       "</div>"
      ],
      "text/plain": [
       "    year  gdp_per_capital                           life_expectancy_1  \\\n",
       "0   1960           428.06  Total Life Expectancy At Birth (Residents)   \n",
       "42  2018        66,188.78  Total Life Expectancy At Birth (Residents)   \n",
       "\n",
       "    life_expectancy  \n",
       "0             62.90  \n",
       "42            83.20  "
      ]
     },
     "execution_count": 4,
     "metadata": {},
     "output_type": "execute_result"
    }
   ],
   "source": [
    "check_ = pd.concat([df.head(1),df.tail(1)],axis =0)\n",
    "check_ #a view of how the merged df look like ... "
   ]
  },
  {
   "cell_type": "markdown",
   "id": "cultural-cradle",
   "metadata": {},
   "source": [
    "## EDA"
   ]
  },
  {
   "cell_type": "code",
   "execution_count": 5,
   "id": "graphic-phrase",
   "metadata": {},
   "outputs": [
    {
     "name": "stdout",
     "output_type": "stream",
     "text": [
      "<class 'pandas.core.frame.DataFrame'>\n",
      "Int64Index: 43 entries, 0 to 42\n",
      "Data columns (total 4 columns):\n",
      " #   Column             Non-Null Count  Dtype  \n",
      "---  ------             --------------  -----  \n",
      " 0   year               43 non-null     object \n",
      " 1   gdp_per_capital    43 non-null     float64\n",
      " 2   life_expectancy_1  43 non-null     object \n",
      " 3   life_expectancy    43 non-null     float64\n",
      "dtypes: float64(2), object(2)\n",
      "memory usage: 1.7+ KB\n"
     ]
    }
   ],
   "source": [
    "df.info() #summary of the combine dataset"
   ]
  },
  {
   "cell_type": "code",
   "execution_count": 6,
   "id": "phantom-induction",
   "metadata": {},
   "outputs": [
    {
     "data": {
      "text/plain": [
       "(43, 4)"
      ]
     },
     "execution_count": 6,
     "metadata": {},
     "output_type": "execute_result"
    }
   ],
   "source": [
    "df.shape #this is the shape of the dataset "
   ]
  },
  {
   "cell_type": "code",
   "execution_count": 7,
   "id": "complicated-douglas",
   "metadata": {},
   "outputs": [
    {
     "data": {
      "text/plain": [
       "Index(['year', 'gdp_per_capital', 'life_expectancy_1', 'life_expectancy'], dtype='object')"
      ]
     },
     "execution_count": 7,
     "metadata": {},
     "output_type": "execute_result"
    }
   ],
   "source": [
    "df.columns #these are the columns in the dataset"
   ]
  },
  {
   "cell_type": "code",
   "execution_count": 8,
   "id": "initial-camping",
   "metadata": {},
   "outputs": [
    {
     "data": {
      "text/plain": [
       "Int64Index([ 0,  1,  2,  3,  4,  5,  6,  7,  8,  9, 10, 11, 12, 13, 14, 15, 16,\n",
       "            17, 18, 19, 20, 21, 22, 23, 24, 25, 26, 27, 28, 29, 30, 31, 32, 33,\n",
       "            34, 35, 36, 37, 38, 39, 40, 41, 42],\n",
       "           dtype='int64')"
      ]
     },
     "execution_count": 8,
     "metadata": {},
     "output_type": "execute_result"
    }
   ],
   "source": [
    "df.index"
   ]
  },
  {
   "cell_type": "code",
   "execution_count": 9,
   "id": "official-motivation",
   "metadata": {},
   "outputs": [
    {
     "data": {
      "text/plain": [
       "year                 0\n",
       "gdp_per_capital      0\n",
       "life_expectancy_1    0\n",
       "life_expectancy      0\n",
       "dtype: int64"
      ]
     },
     "execution_count": 9,
     "metadata": {},
     "output_type": "execute_result"
    }
   ],
   "source": [
    "df.isnull().sum() #ensure no nans in the dataset"
   ]
  },
  {
   "cell_type": "code",
   "execution_count": 10,
   "id": "continent-airline",
   "metadata": {},
   "outputs": [
    {
     "data": {
      "text/html": [
       "<div>\n",
       "<style scoped>\n",
       "    .dataframe tbody tr th:only-of-type {\n",
       "        vertical-align: middle;\n",
       "    }\n",
       "\n",
       "    .dataframe tbody tr th {\n",
       "        vertical-align: top;\n",
       "    }\n",
       "\n",
       "    .dataframe thead th {\n",
       "        text-align: right;\n",
       "    }\n",
       "</style>\n",
       "<table border=\"1\" class=\"dataframe\">\n",
       "  <thead>\n",
       "    <tr style=\"text-align: right;\">\n",
       "      <th></th>\n",
       "      <th>gdp_per_capital</th>\n",
       "      <th>life_expectancy</th>\n",
       "    </tr>\n",
       "  </thead>\n",
       "  <tbody>\n",
       "    <tr>\n",
       "      <th>count</th>\n",
       "      <td>43.00</td>\n",
       "      <td>43.00</td>\n",
       "    </tr>\n",
       "    <tr>\n",
       "      <th>mean</th>\n",
       "      <td>25,369.69</td>\n",
       "      <td>76.73</td>\n",
       "    </tr>\n",
       "    <tr>\n",
       "      <th>std</th>\n",
       "      <td>19,511.36</td>\n",
       "      <td>5.07</td>\n",
       "    </tr>\n",
       "    <tr>\n",
       "      <th>min</th>\n",
       "      <td>428.06</td>\n",
       "      <td>62.90</td>\n",
       "    </tr>\n",
       "    <tr>\n",
       "      <th>25%</th>\n",
       "      <td>7,383.67</td>\n",
       "      <td>74.35</td>\n",
       "    </tr>\n",
       "    <tr>\n",
       "      <th>50%</th>\n",
       "      <td>21,829.30</td>\n",
       "      <td>76.90</td>\n",
       "    </tr>\n",
       "    <tr>\n",
       "      <th>75%</th>\n",
       "      <td>39,180.07</td>\n",
       "      <td>80.75</td>\n",
       "    </tr>\n",
       "    <tr>\n",
       "      <th>max</th>\n",
       "      <td>66,188.78</td>\n",
       "      <td>83.20</td>\n",
       "    </tr>\n",
       "  </tbody>\n",
       "</table>\n",
       "</div>"
      ],
      "text/plain": [
       "       gdp_per_capital  life_expectancy\n",
       "count            43.00            43.00\n",
       "mean         25,369.69            76.73\n",
       "std          19,511.36             5.07\n",
       "min             428.06            62.90\n",
       "25%           7,383.67            74.35\n",
       "50%          21,829.30            76.90\n",
       "75%          39,180.07            80.75\n",
       "max          66,188.78            83.20"
      ]
     },
     "execution_count": 10,
     "metadata": {},
     "output_type": "execute_result"
    }
   ],
   "source": [
    "df.describe() #a descriptive statistical summary of the dataset"
   ]
  },
  {
   "cell_type": "markdown",
   "id": "understood-thomas",
   "metadata": {},
   "source": [
    "## Function to plot the line chart"
   ]
  },
  {
   "cell_type": "code",
   "execution_count": 11,
   "id": "congressional-graphics",
   "metadata": {},
   "outputs": [],
   "source": [
    "#function to produce the chart\n",
    "def chart_1 ( y1=1960, y2=2018): #default years if no inputs in the function\n",
    "    range_of_years  = [str(i) for i in range(y1, y2 + 1)]\n",
    "    selected_years = df[df['year'].isin(range_of_years)]\n",
    "    line_chart = pygal.Line(secondary_range=(60, 90),x_label_rotation=45, explicit_size=False)  #similar to twinx matplotlib\n",
    "    line_chart.title = 'GDP Per Capital and Life Expectancy in Singapore'\n",
    "   \n",
    "    line_chart.add('gdp_per_capital', selected_years['gdp_per_capital'])\n",
    "    line_chart.add('life_expectancy', selected_years['life_expectancy'], secondary=True) #similar to twinx matplotlib\n",
    "    line_chart.x_labels = selected_years['year']\n",
    "    #display(HTML(html_pygal.format(pygal_render=line_chart.render())))\n",
    "    line_chart.render_to_file('1_line_chart_pygal.svg') #write to svg file. open in chrome for best viewing"
   ]
  },
  {
   "cell_type": "code",
   "execution_count": 12,
   "id": "comfortable-genome",
   "metadata": {},
   "outputs": [],
   "source": [
    "chart_1()\n",
    "#chart_1(2010,2018) #for selection of years --> try this "
   ]
  }
 ],
 "metadata": {
  "kernelspec": {
   "display_name": "Python 3",
   "language": "python",
   "name": "python3"
  },
  "language_info": {
   "codemirror_mode": {
    "name": "ipython",
    "version": 3
   },
   "file_extension": ".py",
   "mimetype": "text/x-python",
   "name": "python",
   "nbconvert_exporter": "python",
   "pygments_lexer": "ipython3",
   "version": "3.6.12"
  }
 },
 "nbformat": 4,
 "nbformat_minor": 5
}
