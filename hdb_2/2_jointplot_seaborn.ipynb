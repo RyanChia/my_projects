{
 "cells": [
  {
   "cell_type": "markdown",
   "id": "pediatric-indiana",
   "metadata": {},
   "source": [
    "## Literacy rate vs Fertility rate"
   ]
  },
  {
   "cell_type": "code",
   "execution_count": 1,
   "id": "threatened-natural",
   "metadata": {},
   "outputs": [],
   "source": [
    "import pandas as pd\n",
    "import numpy as np\n",
    "import random\n",
    "from collections import Counter\n",
    "import matplotlib.pyplot as plt\n",
    "import seaborn as sns\n",
    "import datetime as datetime\n",
    "import timeit\n",
    "from scipy import stats\n",
    "\n",
    "pd.set_option('display.max_rows', 60000)\n",
    "pd.set_option('display.max_columns', 500)\n",
    "pd.set_option('display.max_colwidth', 200)\n",
    "pd.options.display.float_format = '{:,.2f}'.format"
   ]
  },
  {
   "cell_type": "code",
   "execution_count": 2,
   "id": "grave-nepal",
   "metadata": {},
   "outputs": [],
   "source": [
    "sns.set_style('darkgrid')\n",
    "\n",
    "filename_1 = 'datasets/literacy-rate-annual/literacy-rate-annual.csv'\n",
    "filename_2 = 'datasets/births-and-fertility-annual/total-fertility-rate-and-reproduction-rate.csv'\n",
    "\n",
    "df1 = pd.read_csv(filename_1)\n",
    "df2 = pd.read_csv(filename_2)\n",
    "\n",
    "df2 = df2[df2['level_1'] == 'Total Fertility Rate'].copy().reset_index(drop=True)\n",
    "\n",
    "df1.columns = ['year','literacy_rate_1','literacy_rate']\n",
    "df2.columns = ['year','fertility_rate_1','fertility_rate']\n",
    "\n",
    "df = pd.merge(df1,df2,how='inner', on = 'year', suffixes=('_lit', '_fert'))"
   ]
  },
  {
   "cell_type": "markdown",
   "id": "obvious-republican",
   "metadata": {},
   "source": [
    "## EDA "
   ]
  },
  {
   "cell_type": "code",
   "execution_count": 3,
   "id": "material-calculation",
   "metadata": {},
   "outputs": [
    {
     "name": "stdout",
     "output_type": "stream",
     "text": [
      "<class 'pandas.core.frame.DataFrame'>\n",
      "Int64Index: 59 entries, 0 to 58\n",
      "Data columns (total 5 columns):\n",
      " #   Column            Non-Null Count  Dtype  \n",
      "---  ------            --------------  -----  \n",
      " 0   year              59 non-null     int64  \n",
      " 1   literacy_rate_1   59 non-null     object \n",
      " 2   literacy_rate     59 non-null     float64\n",
      " 3   fertility_rate_1  59 non-null     object \n",
      " 4   fertility_rate    59 non-null     float64\n",
      "dtypes: float64(2), int64(1), object(2)\n",
      "memory usage: 2.8+ KB\n"
     ]
    }
   ],
   "source": [
    "df.info() #summary of the combine dataset"
   ]
  },
  {
   "cell_type": "code",
   "execution_count": 4,
   "id": "industrial-helena",
   "metadata": {},
   "outputs": [
    {
     "data": {
      "text/plain": [
       "(59, 5)"
      ]
     },
     "execution_count": 4,
     "metadata": {},
     "output_type": "execute_result"
    }
   ],
   "source": [
    "df.shape #this is the shape of the dataset "
   ]
  },
  {
   "cell_type": "code",
   "execution_count": 9,
   "id": "genetic-delicious",
   "metadata": {},
   "outputs": [
    {
     "data": {
      "text/plain": [
       "Index(['year', 'literacy_rate_1', 'literacy_rate', 'fertility_rate_1',\n",
       "       'fertility_rate'],\n",
       "      dtype='object')"
      ]
     },
     "execution_count": 9,
     "metadata": {},
     "output_type": "execute_result"
    }
   ],
   "source": [
    "df.columns #these are the columns in the dataset"
   ]
  },
  {
   "cell_type": "code",
   "execution_count": 12,
   "id": "inappropriate-relative",
   "metadata": {},
   "outputs": [
    {
     "data": {
      "text/plain": [
       "Int64Index([ 0,  1,  2,  3,  4,  5,  6,  7,  8,  9, 10, 11, 12, 13, 14, 15, 16,\n",
       "            17, 18, 19, 20, 21, 22, 23, 24, 25, 26, 27, 28, 29, 30, 31, 32, 33,\n",
       "            34, 35, 36, 37, 38, 39, 40, 41, 42, 43, 44, 45, 46, 47, 48, 49, 50,\n",
       "            51, 52, 53, 54, 55, 56, 57, 58],\n",
       "           dtype='int64')"
      ]
     },
     "execution_count": 12,
     "metadata": {},
     "output_type": "execute_result"
    }
   ],
   "source": [
    "df.index"
   ]
  },
  {
   "cell_type": "code",
   "execution_count": 5,
   "id": "traditional-acrylic",
   "metadata": {},
   "outputs": [
    {
     "data": {
      "text/plain": [
       "year                0\n",
       "literacy_rate_1     0\n",
       "literacy_rate       0\n",
       "fertility_rate_1    0\n",
       "fertility_rate      0\n",
       "dtype: int64"
      ]
     },
     "execution_count": 5,
     "metadata": {},
     "output_type": "execute_result"
    }
   ],
   "source": [
    "df.isnull().sum() #ensure no nans in the dataset"
   ]
  },
  {
   "cell_type": "code",
   "execution_count": 6,
   "id": "streaming-lightning",
   "metadata": {},
   "outputs": [
    {
     "data": {
      "text/html": [
       "<div>\n",
       "<style scoped>\n",
       "    .dataframe tbody tr th:only-of-type {\n",
       "        vertical-align: middle;\n",
       "    }\n",
       "\n",
       "    .dataframe tbody tr th {\n",
       "        vertical-align: top;\n",
       "    }\n",
       "\n",
       "    .dataframe thead th {\n",
       "        text-align: right;\n",
       "    }\n",
       "</style>\n",
       "<table border=\"1\" class=\"dataframe\">\n",
       "  <thead>\n",
       "    <tr style=\"text-align: right;\">\n",
       "      <th></th>\n",
       "      <th>year</th>\n",
       "      <th>literacy_rate</th>\n",
       "      <th>fertility_rate</th>\n",
       "    </tr>\n",
       "  </thead>\n",
       "  <tbody>\n",
       "    <tr>\n",
       "      <th>count</th>\n",
       "      <td>59.00</td>\n",
       "      <td>59.00</td>\n",
       "      <td>59.00</td>\n",
       "    </tr>\n",
       "    <tr>\n",
       "      <th>mean</th>\n",
       "      <td>1,989.00</td>\n",
       "      <td>83.36</td>\n",
       "      <td>2.17</td>\n",
       "    </tr>\n",
       "    <tr>\n",
       "      <th>std</th>\n",
       "      <td>17.18</td>\n",
       "      <td>13.19</td>\n",
       "      <td>1.25</td>\n",
       "    </tr>\n",
       "    <tr>\n",
       "      <th>min</th>\n",
       "      <td>1,960.00</td>\n",
       "      <td>52.60</td>\n",
       "      <td>1.14</td>\n",
       "    </tr>\n",
       "    <tr>\n",
       "      <th>25%</th>\n",
       "      <td>1,974.50</td>\n",
       "      <td>75.40</td>\n",
       "      <td>1.29</td>\n",
       "    </tr>\n",
       "    <tr>\n",
       "      <th>50%</th>\n",
       "      <td>1,989.00</td>\n",
       "      <td>88.40</td>\n",
       "      <td>1.71</td>\n",
       "    </tr>\n",
       "    <tr>\n",
       "      <th>75%</th>\n",
       "      <td>2,003.50</td>\n",
       "      <td>93.65</td>\n",
       "      <td>2.23</td>\n",
       "    </tr>\n",
       "    <tr>\n",
       "      <th>max</th>\n",
       "      <td>2,018.00</td>\n",
       "      <td>97.30</td>\n",
       "      <td>5.76</td>\n",
       "    </tr>\n",
       "  </tbody>\n",
       "</table>\n",
       "</div>"
      ],
      "text/plain": [
       "          year  literacy_rate  fertility_rate\n",
       "count    59.00          59.00           59.00\n",
       "mean  1,989.00          83.36            2.17\n",
       "std      17.18          13.19            1.25\n",
       "min   1,960.00          52.60            1.14\n",
       "25%   1,974.50          75.40            1.29\n",
       "50%   1,989.00          88.40            1.71\n",
       "75%   2,003.50          93.65            2.23\n",
       "max   2,018.00          97.30            5.76"
      ]
     },
     "execution_count": 6,
     "metadata": {},
     "output_type": "execute_result"
    }
   ],
   "source": [
    "df.describe() #a descriptive statistical summary of the dataset"
   ]
  },
  {
   "cell_type": "markdown",
   "id": "requested-essay",
   "metadata": {},
   "source": [
    "## Function to reproduce the Literacy rate vs Fertility rate chart"
   ]
  },
  {
   "cell_type": "code",
   "execution_count": 7,
   "id": "varying-clarity",
   "metadata": {},
   "outputs": [],
   "source": [
    "def chart_2 ( y1=1960, y2=2018):\n",
    "    range_of_years  = [i for i in range(y1, y2 + 1)]\n",
    "    selected_years = df[df['year'].isin(range_of_years)]\n",
    "    g = sns.jointplot(x = \"literacy_rate\", y = \"fertility_rate\", \n",
    "              kind = \"reg\", data = selected_years,\n",
    "              height=8,   #Default: 6\n",
    "              space=0.2,  #Default: 0.2\n",
    "              ratio=7,\n",
    "              marginal_kws=dict(bins=25, fill=False))\n",
    "    \n",
    "    #inserting the r score at the top right corner of the plot\n",
    "    r, p = stats.pearsonr(selected_years[\"literacy_rate\"],selected_years[\"fertility_rate\"])\n",
    "    phantom, = g.ax_joint.plot([], [], linestyle=\"\", alpha=0)\n",
    "    g.ax_joint.legend([phantom],['r={:f}, p={:f}'.format(r,p)])\n",
    "    \n",
    "    g.fig.suptitle(\"Literacy Rate vs Fertility Rate\")\n",
    "    g.fig.tight_layout()\n",
    "    plt.show()"
   ]
  },
  {
   "cell_type": "code",
   "execution_count": 8,
   "id": "completed-scheduling",
   "metadata": {},
   "outputs": [
    {
     "data": {
      "image/png": "[encoded data removed]",
      "text/plain": [
       "<Figure size 576x576 with 3 Axes>"
      ]
     },
     "metadata": {},
     "output_type": "display_data"
    }
   ],
   "source": [
    "chart_2()"
   ]
  },
  {
   "cell_type": "raw",
   "id": "established-reality",
   "metadata": {},
   "source": [
    "g = sns.jointplot(x = \"literacy_rate\", y = \"fertility_rate\", \n",
    "              kind = \"reg\", data = df,\n",
    "              height=8,   #Default: 6\n",
    "              space=0.2,  #Default: 0.2\n",
    "              ratio=7,\n",
    "              marginal_kws=dict(bins=25, fill=False))\n",
    "\n",
    "r, p = stats.pearsonr(df[\"literacy_rate\"],df[\"fertility_rate\"])\n",
    "# if you choose to write your own legend, then you should adjust the properties then\n",
    "phantom, = g.ax_joint.plot([], [], linestyle=\"\", alpha=0)\n",
    "# here graph is not a ax but a joint grid, so we access the axis through ax_joint method\n",
    "\n",
    "g.ax_joint.legend([phantom],['r={:f}, p={:f}'.format(r,p)])\n",
    "g.fig.suptitle(\"Literacy Rate vs Fertility Rate\")\n",
    "g.fig.tight_layout()\n",
    "plt.show()"
   ]
  },
  {
   "cell_type": "raw",
   "id": "blank-internship",
   "metadata": {},
   "source": [
    "\n",
    "\"y={0:.1f}x+{1:.1f}\".format(slope,intercept)\n",
    "def r2(x, y):\n",
    "    return stats.pearsonr(x, y)[0] ** 2"
   ]
  }
 ],
 "metadata": {
  "kernelspec": {
   "display_name": "Python 3",
   "language": "python",
   "name": "python3"
  },
  "language_info": {
   "codemirror_mode": {
    "name": "ipython",
    "version": 3
   },
   "file_extension": ".py",
   "mimetype": "text/x-python",
   "name": "python",
   "nbconvert_exporter": "python",
   "pygments_lexer": "ipython3",
   "version": "3.6.12"
  }
 },
 "nbformat": 4,
 "nbformat_minor": 5
}
