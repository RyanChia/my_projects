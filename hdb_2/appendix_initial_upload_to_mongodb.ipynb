{
 "cells": [
  {
   "cell_type": "code",
   "execution_count": 1,
   "id": "balanced-syntax",
   "metadata": {},
   "outputs": [],
   "source": [
    "import pandas as pd\n",
    "import numpy as np\n",
    "import random\n",
    "from collections import Counter\n",
    "import matplotlib.pyplot as plt\n",
    "import seaborn as sns\n",
    "import datetime as datetime\n",
    "import timeit\n",
    "import json\n",
    "\n",
    "pd.set_option('display.max_rows', 60000)\n",
    "pd.set_option('display.max_columns', 500)\n",
    "pd.set_option('display.max_colwidth', 200)\n",
    "pd.options.display.float_format = '{:,.2f}'.format"
   ]
  },
  {
   "attachments": {
    "image.png": {
     "image/png": "[encoded data removed]"
    }
   },
   "cell_type": "markdown",
   "id": "outdoor-bennett",
   "metadata": {},
   "source": [
    "![image.png](attachment:image.png)"
   ]
  },
  {
   "cell_type": "code",
   "execution_count": 2,
   "id": "chief-concert",
   "metadata": {},
   "outputs": [
    {
     "name": "stdout",
     "output_type": "stream",
     "text": [
      "{'name': 'admin', 'sizeOnDisk': 65536.0, 'empty': False}\n",
      "{'name': 'cny_21', 'sizeOnDisk': 155648.0, 'empty': False}\n",
      "{'name': 'config', 'sizeOnDisk': 36864.0, 'empty': False}\n",
      "{'name': 'hdb', 'sizeOnDisk': 40960.0, 'empty': False}\n",
      "{'name': 'local', 'sizeOnDisk': 73728.0, 'empty': False}\n",
      "{'name': 'myDB', 'sizeOnDisk': 2592768.0, 'empty': False}\n",
      "{'name': 'mylib', 'sizeOnDisk': 65536.0, 'empty': False}\n"
     ]
    }
   ],
   "source": [
    "from pymongo import MongoClient\n",
    "\n",
    "client = MongoClient()\n",
    "\n",
    "#check your list_db\n",
    "cursor = client.list_databases()\n",
    "for db in cursor:\n",
    "    print(db)"
   ]
  },
  {
   "cell_type": "code",
   "execution_count": 3,
   "id": "satisfactory-timothy",
   "metadata": {},
   "outputs": [],
   "source": [
    "filename_1 = \"datasets/resale-flat-prices/resale-flat-prices-based-on-approval-date-2000-feb-2012.csv\"\n",
    "filename_2 = \"datasets/resale-flat-prices/resale-flat-prices-based-on-registration-date-from-mar-2012-to-dec-2014.csv\"\n",
    "filename_3 = \"datasets/resale-flat-prices/resale-flat-prices-based-on-registration-date-from-jan-2015-to-dec-2016.csv\"\n",
    "filename_4 = \"datasets/resale-flat-prices/resale-flat-prices-based-on-registration-date-from-jan-2017-onwards.csv\""
   ]
  },
  {
   "cell_type": "code",
   "execution_count": 4,
   "id": "dried-routine",
   "metadata": {},
   "outputs": [],
   "source": [
    "df_1 = pd.read_csv(filename_1,low_memory=False)\n",
    "df_2 = pd.read_csv(filename_2,low_memory=False)\n",
    "df_3 = pd.read_csv(filename_3,low_memory=False)\n",
    "df_4 = pd.read_csv(filename_4,low_memory=False)\n",
    "\n",
    "df_3 = df_3.drop(['remaining_lease'], axis=1)\n",
    "df_4 = df_4.drop(['remaining_lease'], axis=1)\n",
    "\n",
    "records_1 = json.loads(df_1.T.to_json()).values()\n",
    "records_2 = json.loads(df_2.T.to_json()).values()\n",
    "records_3 = json.loads(df_3.T.to_json()).values()\n",
    "records_4 = json.loads(df_4.T.to_json()).values()\n",
    "\n",
    "set_hdb = ['set_1','set_2','set_3','set_4']\n",
    "records_hdb = [records_1,records_2,records_3,records_4]"
   ]
  },
  {
   "cell_type": "code",
   "execution_count": 5,
   "id": "democratic-material",
   "metadata": {},
   "outputs": [],
   "source": [
    "def upload_ (set_,record):\n",
    "    db = client['hdb']\n",
    "    collection =db[set_]\n",
    "    collection.insert_many(record)"
   ]
  },
  {
   "cell_type": "code",
   "execution_count": 6,
   "id": "unauthorized-brunswick",
   "metadata": {},
   "outputs": [],
   "source": [
    "for a, b in zip(set_hdb,records_hdb):\n",
    "    upload_(a,b)"
   ]
  },
  {
   "cell_type": "code",
   "execution_count": 14,
   "id": "young-fitness",
   "metadata": {},
   "outputs": [
    {
     "data": {
      "text/html": [
       "<div>\n",
       "<style scoped>\n",
       "    .dataframe tbody tr th:only-of-type {\n",
       "        vertical-align: middle;\n",
       "    }\n",
       "\n",
       "    .dataframe tbody tr th {\n",
       "        vertical-align: top;\n",
       "    }\n",
       "\n",
       "    .dataframe thead th {\n",
       "        text-align: right;\n",
       "    }\n",
       "</style>\n",
       "<table border=\"1\" class=\"dataframe\">\n",
       "  <thead>\n",
       "    <tr style=\"text-align: right;\">\n",
       "      <th></th>\n",
       "      <th>_id</th>\n",
       "      <th>month</th>\n",
       "      <th>town</th>\n",
       "      <th>flat_type</th>\n",
       "      <th>block</th>\n",
       "      <th>street_name</th>\n",
       "      <th>storey_range</th>\n",
       "      <th>floor_area_sqm</th>\n",
       "      <th>flat_model</th>\n",
       "      <th>lease_commence_date</th>\n",
       "      <th>resale_price</th>\n",
       "    </tr>\n",
       "  </thead>\n",
       "  <tbody>\n",
       "    <tr>\n",
       "      <th>0</th>\n",
       "      <td>60252670aac769b8001aac40</td>\n",
       "      <td>2000-01</td>\n",
       "      <td>ANG MO KIO</td>\n",
       "      <td>3 ROOM</td>\n",
       "      <td>170</td>\n",
       "      <td>ANG MO KIO AVE 4</td>\n",
       "      <td>07 TO 09</td>\n",
       "      <td>69.00</td>\n",
       "      <td>Improved</td>\n",
       "      <td>1986</td>\n",
       "      <td>147,000.00</td>\n",
       "    </tr>\n",
       "    <tr>\n",
       "      <th>1</th>\n",
       "      <td>60252670aac769b8001aac41</td>\n",
       "      <td>2000-01</td>\n",
       "      <td>ANG MO KIO</td>\n",
       "      <td>3 ROOM</td>\n",
       "      <td>174</td>\n",
       "      <td>ANG MO KIO AVE 4</td>\n",
       "      <td>04 TO 06</td>\n",
       "      <td>61.00</td>\n",
       "      <td>Improved</td>\n",
       "      <td>1986</td>\n",
       "      <td>144,000.00</td>\n",
       "    </tr>\n",
       "    <tr>\n",
       "      <th>2</th>\n",
       "      <td>60252670aac769b8001aac42</td>\n",
       "      <td>2000-01</td>\n",
       "      <td>ANG MO KIO</td>\n",
       "      <td>3 ROOM</td>\n",
       "      <td>216</td>\n",
       "      <td>ANG MO KIO AVE 1</td>\n",
       "      <td>07 TO 09</td>\n",
       "      <td>73.00</td>\n",
       "      <td>New Generation</td>\n",
       "      <td>1976</td>\n",
       "      <td>159,000.00</td>\n",
       "    </tr>\n",
       "    <tr>\n",
       "      <th>3</th>\n",
       "      <td>60252670aac769b8001aac43</td>\n",
       "      <td>2000-01</td>\n",
       "      <td>ANG MO KIO</td>\n",
       "      <td>3 ROOM</td>\n",
       "      <td>215</td>\n",
       "      <td>ANG MO KIO AVE 1</td>\n",
       "      <td>07 TO 09</td>\n",
       "      <td>73.00</td>\n",
       "      <td>New Generation</td>\n",
       "      <td>1976</td>\n",
       "      <td>167,000.00</td>\n",
       "    </tr>\n",
       "    <tr>\n",
       "      <th>4</th>\n",
       "      <td>60252670aac769b8001aac44</td>\n",
       "      <td>2000-01</td>\n",
       "      <td>ANG MO KIO</td>\n",
       "      <td>3 ROOM</td>\n",
       "      <td>218</td>\n",
       "      <td>ANG MO KIO AVE 1</td>\n",
       "      <td>07 TO 09</td>\n",
       "      <td>67.00</td>\n",
       "      <td>New Generation</td>\n",
       "      <td>1976</td>\n",
       "      <td>163,000.00</td>\n",
       "    </tr>\n",
       "  </tbody>\n",
       "</table>\n",
       "</div>"
      ],
      "text/plain": [
       "                        _id    month        town flat_type block  \\\n",
       "0  60252670aac769b8001aac40  2000-01  ANG MO KIO    3 ROOM   170   \n",
       "1  60252670aac769b8001aac41  2000-01  ANG MO KIO    3 ROOM   174   \n",
       "2  60252670aac769b8001aac42  2000-01  ANG MO KIO    3 ROOM   216   \n",
       "3  60252670aac769b8001aac43  2000-01  ANG MO KIO    3 ROOM   215   \n",
       "4  60252670aac769b8001aac44  2000-01  ANG MO KIO    3 ROOM   218   \n",
       "\n",
       "        street_name storey_range  floor_area_sqm      flat_model  \\\n",
       "0  ANG MO KIO AVE 4     07 TO 09           69.00        Improved   \n",
       "1  ANG MO KIO AVE 4     04 TO 06           61.00        Improved   \n",
       "2  ANG MO KIO AVE 1     07 TO 09           73.00  New Generation   \n",
       "3  ANG MO KIO AVE 1     07 TO 09           73.00  New Generation   \n",
       "4  ANG MO KIO AVE 1     07 TO 09           67.00  New Generation   \n",
       "\n",
       "   lease_commence_date  resale_price  \n",
       "0                 1986    147,000.00  \n",
       "1                 1986    144,000.00  \n",
       "2                 1976    159,000.00  \n",
       "3                 1976    167,000.00  \n",
       "4                 1976    163,000.00  "
      ]
     },
     "execution_count": 14,
     "metadata": {},
     "output_type": "execute_result"
    }
   ],
   "source": [
    "#check\n",
    "db = client['hdb']\n",
    "collection =db['set_1']\n",
    "data_1 = pd.DataFrame(list(collection.find()))\n",
    "data_1.head()"
   ]
  },
  {
   "cell_type": "code",
   "execution_count": 15,
   "id": "valued-optimum",
   "metadata": {},
   "outputs": [
    {
     "data": {
      "text/plain": [
       "(369651, 11)"
      ]
     },
     "execution_count": 15,
     "metadata": {},
     "output_type": "execute_result"
    }
   ],
   "source": [
    "data_1.shape #shows that 300k records from the 1st set was loaded "
   ]
  },
  {
   "cell_type": "code",
   "execution_count": 19,
   "id": "fatty-leisure",
   "metadata": {},
   "outputs": [
    {
     "data": {
      "text/plain": [
       "['set_1', 'set_3', 'set_2', 'metadata', 'set_4']"
      ]
     },
     "execution_count": 19,
     "metadata": {},
     "output_type": "execute_result"
    }
   ],
   "source": [
    "db = client['hdb']\n",
    "db.list_collection_names()"
   ]
  }
 ],
 "metadata": {
  "kernelspec": {
   "display_name": "Python 3",
   "language": "python",
   "name": "python3"
  },
  "language_info": {
   "codemirror_mode": {
    "name": "ipython",
    "version": 3
   },
   "file_extension": ".py",
   "mimetype": "text/x-python",
   "name": "python",
   "nbconvert_exporter": "python",
   "pygments_lexer": "ipython3",
   "version": "3.6.12"
  }
 },
 "nbformat": 4,
 "nbformat_minor": 5
}
