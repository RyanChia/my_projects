{
 "cells": [
  {
   "attachments": {},
   "cell_type": "markdown",
   "id": "cooked-rally",
   "metadata": {},
   "source": [
    "## What is the percentage of the  population that stays in HDB?"
   ]
  },
  {
   "cell_type": "raw",
   "id": "pressed-chase",
   "metadata": {},
   "source": [
    "# https://data.gov.sg/dataset/estimated-resident-population-living-in-hdb-flats\n",
    "# https://data.gov.sg/dataset/resident-population-by-ethnicity-gender-and-age-group"
   ]
  },
  {
   "cell_type": "code",
   "execution_count": 1,
   "id": "prospective-telescope",
   "metadata": {},
   "outputs": [],
   "source": [
    "import pandas as pd\n",
    "import numpy as np\n",
    "import random\n",
    "from collections import Counter\n",
    "import matplotlib.pyplot as plt\n",
    "import seaborn as sns\n",
    "import datetime as datetime\n",
    "import timeit\n",
    "\n",
    "pd.set_option('display.max_rows', 60000)\n",
    "pd.set_option('display.max_columns', 500)\n",
    "pd.set_option('display.max_colwidth', 200)\n",
    "pd.options.display.float_format = '{:,.2f}'.format\n",
    "\n",
    "import pygal\n",
    "from IPython.display import SVG, display, HTML\n",
    "from pygal.style import RedBlueStyle"
   ]
  },
  {
   "cell_type": "code",
   "execution_count": 2,
   "id": "mounted-farming",
   "metadata": {},
   "outputs": [],
   "source": [
    "file_1='datasets/estimated-resident-population-living-in-hdb-flats/estimated-resident-population-in-hdb-flats-by-town.csv'\n",
    "file_2='datasets/resident-population-by-ethnicity-gender-and-age-group/singapore-residents-by-ethnic-group-and-sex-end-june-annual.csv'\n",
    "\n",
    "df1 = pd.read_csv(file_1)\n",
    "df2 = pd.read_csv(file_2)\n",
    "\n",
    "#total of all who stays in HDB \n",
    "df1 = df1[~(df1['town_or_estate']=='Total')].reset_index(drop=True) #selection of every town other than \"total\"  \n",
    "df1_grpby = df1.groupby('financial_year').sum().reset_index(drop=False)  #aggregating the data by years \n",
    "df1_grpby.columns = ['year','hdb_pop']\n",
    "\n",
    "#total residents in SG -- assuming that the rest of the population stays in private or otherwise \n",
    "df2 = df2[df2['level_1'] =='Total Residents'].copy().reset_index(drop=True)\n",
    "df2['value'] = df2['value'].str.replace('na','0').astype(int) #data cleaning\n",
    "df2_grpby = df2.groupby('year')['value'].sum().reset_index(drop=False) #aggregating the data by years \n",
    "df2_grpby.columns = ['year','total_pop']\n",
    "\n",
    "df = pd.merge(df1_grpby,df2_grpby, how='inner',on='year') #joing df1_grpby and df2_grpby on 'year'\n",
    "df['hdb_%'] = (df['hdb_pop']/df['total_pop']) * 100 #computing the % that stays in hdb \n",
    "df['year'] = df['year'].astype(str)"
   ]
  },
  {
   "cell_type": "code",
   "execution_count": 3,
   "id": "numerical-atlanta",
   "metadata": {},
   "outputs": [
    {
     "data": {
      "text/plain": [
       "(312, 3)"
      ]
     },
     "execution_count": 3,
     "metadata": {},
     "output_type": "execute_result"
    }
   ],
   "source": [
    "df1.shape #notice that through groupby function, we \"aggregate these data into 11 years\""
   ]
  },
  {
   "cell_type": "code",
   "execution_count": 4,
   "id": "indonesian-spain",
   "metadata": {},
   "outputs": [
    {
     "data": {
      "text/plain": [
       "(1512, 4)"
      ]
     },
     "execution_count": 4,
     "metadata": {},
     "output_type": "execute_result"
    }
   ],
   "source": [
    "df2.shape #notice that through groupby function, we \"aggregate these data into 11 years\""
   ]
  },
  {
   "cell_type": "markdown",
   "id": "qualified-emperor",
   "metadata": {},
   "source": [
    "## EDA"
   ]
  },
  {
   "cell_type": "code",
   "execution_count": 5,
   "id": "expensive-indication",
   "metadata": {},
   "outputs": [
    {
     "name": "stdout",
     "output_type": "stream",
     "text": [
      "<class 'pandas.core.frame.DataFrame'>\n",
      "Int64Index: 12 entries, 0 to 11\n",
      "Data columns (total 4 columns):\n",
      " #   Column     Non-Null Count  Dtype  \n",
      "---  ------     --------------  -----  \n",
      " 0   year       12 non-null     object \n",
      " 1   hdb_pop    12 non-null     int64  \n",
      " 2   total_pop  12 non-null     int32  \n",
      " 3   hdb_%      12 non-null     float64\n",
      "dtypes: float64(1), int32(1), int64(1), object(1)\n",
      "memory usage: 432.0+ bytes\n"
     ]
    }
   ],
   "source": [
    "df.info() #summary of the combine dataset"
   ]
  },
  {
   "cell_type": "code",
   "execution_count": 6,
   "id": "double-retirement",
   "metadata": {},
   "outputs": [
    {
     "data": {
      "text/plain": [
       "(12, 4)"
      ]
     },
     "execution_count": 6,
     "metadata": {},
     "output_type": "execute_result"
    }
   ],
   "source": [
    "df.shape #this is the shape of the dataset "
   ]
  },
  {
   "cell_type": "code",
   "execution_count": 7,
   "id": "spare-genealogy",
   "metadata": {},
   "outputs": [
    {
     "data": {
      "text/plain": [
       "Index(['year', 'hdb_pop', 'total_pop', 'hdb_%'], dtype='object')"
      ]
     },
     "execution_count": 7,
     "metadata": {},
     "output_type": "execute_result"
    }
   ],
   "source": [
    "df.columns #these are the columns in the dataset"
   ]
  },
  {
   "cell_type": "code",
   "execution_count": 8,
   "id": "tender-poison",
   "metadata": {},
   "outputs": [
    {
     "data": {
      "text/plain": [
       "Int64Index([0, 1, 2, 3, 4, 5, 6, 7, 8, 9, 10, 11], dtype='int64')"
      ]
     },
     "execution_count": 8,
     "metadata": {},
     "output_type": "execute_result"
    }
   ],
   "source": [
    "df.index"
   ]
  },
  {
   "cell_type": "code",
   "execution_count": 9,
   "id": "optimum-examination",
   "metadata": {},
   "outputs": [
    {
     "data": {
      "text/plain": [
       "year         0\n",
       "hdb_pop      0\n",
       "total_pop    0\n",
       "hdb_%        0\n",
       "dtype: int64"
      ]
     },
     "execution_count": 9,
     "metadata": {},
     "output_type": "execute_result"
    }
   ],
   "source": [
    "df.isnull().sum() #ensure no nans in the dataset"
   ]
  },
  {
   "cell_type": "code",
   "execution_count": 10,
   "id": "productive-mailing",
   "metadata": {},
   "outputs": [
    {
     "data": {
      "text/html": [
       "<div>\n",
       "<style scoped>\n",
       "    .dataframe tbody tr th:only-of-type {\n",
       "        vertical-align: middle;\n",
       "    }\n",
       "\n",
       "    .dataframe tbody tr th {\n",
       "        vertical-align: top;\n",
       "    }\n",
       "\n",
       "    .dataframe thead th {\n",
       "        text-align: right;\n",
       "    }\n",
       "</style>\n",
       "<table border=\"1\" class=\"dataframe\">\n",
       "  <thead>\n",
       "    <tr style=\"text-align: right;\">\n",
       "      <th></th>\n",
       "      <th>hdb_pop</th>\n",
       "      <th>total_pop</th>\n",
       "      <th>hdb_%</th>\n",
       "    </tr>\n",
       "  </thead>\n",
       "  <tbody>\n",
       "    <tr>\n",
       "      <th>count</th>\n",
       "      <td>12.00</td>\n",
       "      <td>12.00</td>\n",
       "      <td>12.00</td>\n",
       "    </tr>\n",
       "    <tr>\n",
       "      <th>mean</th>\n",
       "      <td>3,183,725.00</td>\n",
       "      <td>4,842,498.83</td>\n",
       "      <td>65.91</td>\n",
       "    </tr>\n",
       "    <tr>\n",
       "      <th>std</th>\n",
       "      <td>72,913.28</td>\n",
       "      <td>307,108.03</td>\n",
       "      <td>2.84</td>\n",
       "    </tr>\n",
       "    <tr>\n",
       "      <th>min</th>\n",
       "      <td>3,020,100.00</td>\n",
       "      <td>4,365,064.00</td>\n",
       "      <td>60.60</td>\n",
       "    </tr>\n",
       "    <tr>\n",
       "      <th>25%</th>\n",
       "      <td>3,149,150.00</td>\n",
       "      <td>4,612,423.25</td>\n",
       "      <td>64.18</td>\n",
       "    </tr>\n",
       "    <tr>\n",
       "      <th>50%</th>\n",
       "      <td>3,215,200.00</td>\n",
       "      <td>4,820,747.00</td>\n",
       "      <td>66.70</td>\n",
       "    </tr>\n",
       "    <tr>\n",
       "      <th>75%</th>\n",
       "      <td>3,239,000.00</td>\n",
       "      <td>5,063,019.00</td>\n",
       "      <td>68.28</td>\n",
       "    </tr>\n",
       "    <tr>\n",
       "      <th>max</th>\n",
       "      <td>3,249,900.00</td>\n",
       "      <td>5,347,551.00</td>\n",
       "      <td>69.19</td>\n",
       "    </tr>\n",
       "  </tbody>\n",
       "</table>\n",
       "</div>"
      ],
      "text/plain": [
       "           hdb_pop    total_pop  hdb_%\n",
       "count        12.00        12.00  12.00\n",
       "mean  3,183,725.00 4,842,498.83  65.91\n",
       "std      72,913.28   307,108.03   2.84\n",
       "min   3,020,100.00 4,365,064.00  60.60\n",
       "25%   3,149,150.00 4,612,423.25  64.18\n",
       "50%   3,215,200.00 4,820,747.00  66.70\n",
       "75%   3,239,000.00 5,063,019.00  68.28\n",
       "max   3,249,900.00 5,347,551.00  69.19"
      ]
     },
     "execution_count": 10,
     "metadata": {},
     "output_type": "execute_result"
    }
   ],
   "source": [
    "df.describe() #a descriptive statistical summary of the dataset"
   ]
  },
  {
   "cell_type": "code",
   "execution_count": 11,
   "id": "rental-census",
   "metadata": {},
   "outputs": [
    {
     "data": {
      "text/html": [
       "<div>\n",
       "<style scoped>\n",
       "    .dataframe tbody tr th:only-of-type {\n",
       "        vertical-align: middle;\n",
       "    }\n",
       "\n",
       "    .dataframe tbody tr th {\n",
       "        vertical-align: top;\n",
       "    }\n",
       "\n",
       "    .dataframe thead th {\n",
       "        text-align: right;\n",
       "    }\n",
       "</style>\n",
       "<table border=\"1\" class=\"dataframe\">\n",
       "  <thead>\n",
       "    <tr style=\"text-align: right;\">\n",
       "      <th></th>\n",
       "      <th>year</th>\n",
       "      <th>hdb_pop</th>\n",
       "      <th>total_pop</th>\n",
       "      <th>hdb_%</th>\n",
       "    </tr>\n",
       "  </thead>\n",
       "  <tbody>\n",
       "    <tr>\n",
       "      <th>0</th>\n",
       "      <td>2008</td>\n",
       "      <td>3020100</td>\n",
       "      <td>4365064</td>\n",
       "      <td>69.19</td>\n",
       "    </tr>\n",
       "    <tr>\n",
       "      <th>1</th>\n",
       "      <td>2009</td>\n",
       "      <td>3094100</td>\n",
       "      <td>4497097</td>\n",
       "      <td>68.80</td>\n",
       "    </tr>\n",
       "    <tr>\n",
       "      <th>2</th>\n",
       "      <td>2010</td>\n",
       "      <td>3125900</td>\n",
       "      <td>4569563</td>\n",
       "      <td>68.41</td>\n",
       "    </tr>\n",
       "    <tr>\n",
       "      <th>3</th>\n",
       "      <td>2011</td>\n",
       "      <td>3156900</td>\n",
       "      <td>4626710</td>\n",
       "      <td>68.23</td>\n",
       "    </tr>\n",
       "    <tr>\n",
       "      <th>4</th>\n",
       "      <td>2012</td>\n",
       "      <td>3165900</td>\n",
       "      <td>4703162</td>\n",
       "      <td>67.31</td>\n",
       "    </tr>\n",
       "    <tr>\n",
       "      <th>5</th>\n",
       "      <td>2013</td>\n",
       "      <td>3213000</td>\n",
       "      <td>4778993</td>\n",
       "      <td>67.23</td>\n",
       "    </tr>\n",
       "    <tr>\n",
       "      <th>6</th>\n",
       "      <td>2014</td>\n",
       "      <td>3217400</td>\n",
       "      <td>4862501</td>\n",
       "      <td>66.17</td>\n",
       "    </tr>\n",
       "    <tr>\n",
       "      <th>7</th>\n",
       "      <td>2015</td>\n",
       "      <td>3234800</td>\n",
       "      <td>4949465</td>\n",
       "      <td>65.36</td>\n",
       "    </tr>\n",
       "    <tr>\n",
       "      <th>8</th>\n",
       "      <td>2016</td>\n",
       "      <td>3249900</td>\n",
       "      <td>5038475</td>\n",
       "      <td>64.50</td>\n",
       "    </tr>\n",
       "    <tr>\n",
       "      <th>9</th>\n",
       "      <td>2017</td>\n",
       "      <td>3247500</td>\n",
       "      <td>5136651</td>\n",
       "      <td>63.22</td>\n",
       "    </tr>\n",
       "    <tr>\n",
       "      <th>10</th>\n",
       "      <td>2018</td>\n",
       "      <td>3238400</td>\n",
       "      <td>5234754</td>\n",
       "      <td>61.86</td>\n",
       "    </tr>\n",
       "    <tr>\n",
       "      <th>11</th>\n",
       "      <td>2019</td>\n",
       "      <td>3240800</td>\n",
       "      <td>5347551</td>\n",
       "      <td>60.60</td>\n",
       "    </tr>\n",
       "  </tbody>\n",
       "</table>\n",
       "</div>"
      ],
      "text/plain": [
       "    year  hdb_pop  total_pop  hdb_%\n",
       "0   2008  3020100    4365064  69.19\n",
       "1   2009  3094100    4497097  68.80\n",
       "2   2010  3125900    4569563  68.41\n",
       "3   2011  3156900    4626710  68.23\n",
       "4   2012  3165900    4703162  67.31\n",
       "5   2013  3213000    4778993  67.23\n",
       "6   2014  3217400    4862501  66.17\n",
       "7   2015  3234800    4949465  65.36\n",
       "8   2016  3249900    5038475  64.50\n",
       "9   2017  3247500    5136651  63.22\n",
       "10  2018  3238400    5234754  61.86\n",
       "11  2019  3240800    5347551  60.60"
      ]
     },
     "execution_count": 11,
     "metadata": {},
     "output_type": "execute_result"
    }
   ],
   "source": [
    "df"
   ]
  },
  {
   "cell_type": "markdown",
   "id": "variable-madonna",
   "metadata": {},
   "source": [
    "## Plotting the donut chart"
   ]
  },
  {
   "cell_type": "code",
   "execution_count": 12,
   "id": "assisted-disaster",
   "metadata": {},
   "outputs": [],
   "source": [
    "def gauge_chart(x=2015,y=2019):\n",
    "    range_years_int = np.arange(x,y+1,1)  #produce the range of years using numpy \n",
    "    range_years = [str(x) for x in list(range_years_int)] #transform the years to string\n",
    "    data = []\n",
    "    for x in range_years:\n",
    "        d_perc = round(df[df['year']==x]['hdb_%'].values[0],2) #retrieving only the hdb_% data for the particular year\n",
    "        list_ = [x,d_perc,100] #in the format of year, hdb_%, and 100% \n",
    "        data.append(list_) #append to variable \"data\"\n",
    "    \n",
    "    gauge_chart = pygal.SolidGauge(inner_radius=0.70)\n",
    "    percent_formatter = lambda x: '{:.10g}%'.format(x)\n",
    "    gauge_chart.title = 'Population staying in Private vs Public Housing by %'\n",
    "    for x in range(len(data)):\n",
    "        gauge_chart.add(data[x][0], \n",
    "                   [{'value': data[x][1], 'max_value': data[x][2],'label': 'Population staying in HDB'}],\n",
    "                     formatter=percent_formatter) #using a loop to plot the info in data unto the gauge chart \n",
    "    gauge_chart.render_to_file('3_donut_charts.svg')"
   ]
  },
  {
   "cell_type": "code",
   "execution_count": 13,
   "id": "alleged-tampa",
   "metadata": {},
   "outputs": [],
   "source": [
    "gauge_chart()\n",
    "#gauge_chart(2008,2013) #may select anywhere from 2008 to 2019, default at 2015 to 2019"
   ]
  },
  {
   "cell_type": "code",
   "execution_count": 14,
   "id": "smoking-amino",
   "metadata": {},
   "outputs": [],
   "source": [
    "#just in case if need to insert for those not staying in HDB \n",
    "# {'value': 100 - data[x][1], 'max_value': data[x][2],'label': 'Population staying in Private',\n",
    "#                      'color': 'grey'}"
   ]
  }
 ],
 "metadata": {
  "kernelspec": {
   "display_name": "Python 3",
   "language": "python",
   "name": "python3"
  },
  "language_info": {
   "codemirror_mode": {
    "name": "ipython",
    "version": 3
   },
   "file_extension": ".py",
   "mimetype": "text/x-python",
   "name": "python",
   "nbconvert_exporter": "python",
   "pygments_lexer": "ipython3",
   "version": "3.6.12"
  }
 },
 "nbformat": 4,
 "nbformat_minor": 5
}
